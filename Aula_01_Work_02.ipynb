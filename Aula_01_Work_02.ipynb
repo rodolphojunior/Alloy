{
  "nbformat": 4,
  "nbformat_minor": 0,
  "metadata": {
    "colab": {
      "name": "Aula_01_Work_02.ipynb",
      "provenance": [],
      "collapsed_sections": [],
      "toc_visible": true,
      "include_colab_link": true
    },
    "kernelspec": {
      "name": "python3",
      "display_name": "Python 3"
    }
  },
  "cells": [
    {
      "cell_type": "markdown",
      "metadata": {
        "id": "view-in-github",
        "colab_type": "text"
      },
      "source": [
        "<a href=\"https://colab.research.google.com/github/rodolphojunior/Alloy/blob/master/Aula_01_Work_02.ipynb\" target=\"_parent\"><img src=\"https://colab.research.google.com/assets/colab-badge.svg\" alt=\"Open In Colab\"/></a>"
      ]
    },
    {
      "cell_type": "markdown",
      "metadata": {
        "id": "Au0S0kJsXCjS",
        "colab_type": "text"
      },
      "source": [
        "# **Aula - 01 / Work - 2**\n",
        "\n",
        "## **Classificando genomas de COVID-19 com técnicas de dados desbalanceados**\n",
        "\n",
        "### **Alunos:**\n",
        "\n",
        " - \n",
        " - \n",
        " -"
      ]
    },
    {
      "cell_type": "markdown",
      "metadata": {
        "id": "xlf994xRX0KC",
        "colab_type": "text"
      },
      "source": [
        "A classificação de sequências virais tem sido uma preocupação de infectologistas e epidemiologistas há décadas, dado o desafio de detectar vírus altamente divergentes ou desconhecidos, por exemplo, pandemia de COVID-19 causada por novos vírus SARS-CoV-2. Em 28 de maio de 2020, o SARS-CoV-2 afetou mais de 188 países / regiões, com mais de 5,7 milhões de infectados e 356.000 mortes. Outros fatores agravantes dessa doença são que a maioria dos pacientes pode não apresentar sintomas, transformando-os em portadores silenciosos. Além disso, o SARS-CoV-2 tem semelhanças com outros tipos de coronavírus, dificultando a distinção deles sem testes. Acreditamos que os algoritmos de aprendizado de máquina podem ser uma ferramenta potencialmente poderosa para prever sequências virais, auxiliando na luta contra a pandemia de COVID-19.\n"
      ]
    },
    {
      "cell_type": "markdown",
      "metadata": {
        "id": "KVUHCfnbYCYv",
        "colab_type": "text"
      },
      "source": [
        "## **Dataset**\n",
        "\n",
        "**Identificação de seqüências SARS-CoV-2 de outros vírus**\n",
        "\n",
        "Aqui, realizamos um teste experimental, mas agora classificando a SARS-CoV-2 de outros vírus (por exemplo, HIV, gripe, hepatite, ebolavírus, SARS, etc). Dessa forma, baixamos todas as sequências de vírus disponíveis (29.135) do banco de dados do NCBI Viral Genome (genoma completo). sequências, mesma consulta Completude do nucleotídeo = \"complete\" AND host = \"homo sapiens\"). Como pré-processamento, removemos sequências menores que 2.000pb e maiores que 50.000pb e que se cruzam com nosso conjunto inicial, para eliminar qualquer viés no tamanho da sequência, uma vez que o SARS-CoV-2 tem um comprimento médio de 29.838pb. Assim, obtemos um conjunto de dados final com **22.442** e **2.373** sequências de outros vírus e SARS-CoV-2, respectivamente.\n"
      ]
    },
    {
      "cell_type": "markdown",
      "metadata": {
        "id": "xakzW1u8eVq1",
        "colab_type": "text"
      },
      "source": [
        "## **Imbalanced data sets (dados desbalanceados)**\n",
        "\n",
        "A classe desbalanceada ocorre quando temos um dataset que possui muitos exemplos de uma classe e poucos exemplos da outra classe (**conforme apresentado no dataset de COVID**). Nessa situação se você tem um modelo de classificação, por exemplo, o resultado pode ser enviesado, ou seja ele tende a classificar os novos dados como sendo da classe que possui mais exemplos.\n",
        "\n",
        "https://github.com/scikit-learn-contrib/imbalanced-learn\n",
        "\n",
        "https://machinelearningmastery.com/smote-oversampling-for-imbalanced-classification/"
      ]
    },
    {
      "cell_type": "markdown",
      "metadata": {
        "id": "9Uo9j72WY_tJ",
        "colab_type": "text"
      },
      "source": [
        "## **Trabalho**\n",
        "\n",
        "Use o dataset **other_viruses_covid.csv** para construir um modelo de classificação de sequências de COVID-19.\n",
        "\n",
        "Use Holdout (ou Cross-Validation, Stratified, leave-one-out, bootstrap) para avaliar qual dos algoritmos escolhidos (pelo menos dois) tem melhores resultados nos dados, alguns exemplos:\n",
        "\n",
        "    SVM Linear\n",
        "    SVM RBF\n",
        "    K vizinhos\n",
        "    Decision Tree\n",
        "\n",
        "Decida que padronização dos dados usará para cada algoritmo (ou nenhuma). Justifique.\n",
        "\n",
        "Teste pelo menos duas técnicas para dados desbalanceados (ver aquivo **Imbalanced data sets**).\n",
        "\n",
        "Faça o grid search dos hiperparametros apropriados para cada algoritmo escolhido (ver arquivo **grid search**).\n",
        "\n",
        "Reporte pelos menos três métricas de performance de cada algoritmo.\n",
        "\n",
        "Finalmente, discorra rapidamente sobre os experimentos e resultados (qual o melhor classificador, qual melhor métrica, aplicar técnicas de dados desbalanceados teve efeito nesse problema, qual a melhor parametrização do algoritmo utilizado...).\n",
        "\n",
        "**Caso ainda tenha dúvida de como montar um modelo de classificação, procure o arquivo \"Construindo um modelo de classificação\" no conteúdo complementar da disciplina.**"
      ]
    },
    {
      "cell_type": "markdown",
      "metadata": {
        "id": "CHIIKLaYb1X_",
        "colab_type": "text"
      },
      "source": [
        "## **Carregando dataset**"
      ]
    },
    {
      "cell_type": "code",
      "metadata": {
        "id": "GpAfuIQpWHkg",
        "colab_type": "code",
        "colab": {
          "base_uri": "https://localhost:8080/",
          "height": 419
        },
        "outputId": "0f57b6df-dff3-4dcd-c62f-2fb652a8a745"
      },
      "source": [
        "import warnings\n",
        "warnings.filterwarnings(\"ignore\")\n",
        "import pandas as pd\n",
        "\n",
        "df = pd.read_csv(\"other_viruses_covid.csv\")\n",
        "df = df.drop('nameseq', 1)\n",
        "df"
      ],
      "execution_count": null,
      "outputs": [
        {
          "output_type": "execute_result",
          "data": {
            "text/html": [
              "<div>\n",
              "<style scoped>\n",
              "    .dataframe tbody tr th:only-of-type {\n",
              "        vertical-align: middle;\n",
              "    }\n",
              "\n",
              "    .dataframe tbody tr th {\n",
              "        vertical-align: top;\n",
              "    }\n",
              "\n",
              "    .dataframe thead th {\n",
              "        text-align: right;\n",
              "    }\n",
              "</style>\n",
              "<table border=\"1\" class=\"dataframe\">\n",
              "  <thead>\n",
              "    <tr style=\"text-align: right;\">\n",
              "      <th></th>\n",
              "      <th>k1</th>\n",
              "      <th>k2</th>\n",
              "      <th>k3</th>\n",
              "      <th>k4</th>\n",
              "      <th>k5</th>\n",
              "      <th>k6</th>\n",
              "      <th>k7</th>\n",
              "      <th>k8</th>\n",
              "      <th>k9</th>\n",
              "      <th>k10</th>\n",
              "      <th>k11</th>\n",
              "      <th>k12</th>\n",
              "      <th>label</th>\n",
              "    </tr>\n",
              "  </thead>\n",
              "  <tbody>\n",
              "    <tr>\n",
              "      <th>0</th>\n",
              "      <td>0.199619</td>\n",
              "      <td>0.199999</td>\n",
              "      <td>0.2</td>\n",
              "      <td>0.2</td>\n",
              "      <td>0.2</td>\n",
              "      <td>0.2</td>\n",
              "      <td>0.2</td>\n",
              "      <td>0.2</td>\n",
              "      <td>0.2</td>\n",
              "      <td>0.2</td>\n",
              "      <td>0.2</td>\n",
              "      <td>0.2</td>\n",
              "      <td>1</td>\n",
              "    </tr>\n",
              "    <tr>\n",
              "      <th>1</th>\n",
              "      <td>0.199619</td>\n",
              "      <td>0.199999</td>\n",
              "      <td>0.2</td>\n",
              "      <td>0.2</td>\n",
              "      <td>0.2</td>\n",
              "      <td>0.2</td>\n",
              "      <td>0.2</td>\n",
              "      <td>0.2</td>\n",
              "      <td>0.2</td>\n",
              "      <td>0.2</td>\n",
              "      <td>0.2</td>\n",
              "      <td>0.2</td>\n",
              "      <td>1</td>\n",
              "    </tr>\n",
              "    <tr>\n",
              "      <th>2</th>\n",
              "      <td>0.199619</td>\n",
              "      <td>0.199999</td>\n",
              "      <td>0.2</td>\n",
              "      <td>0.2</td>\n",
              "      <td>0.2</td>\n",
              "      <td>0.2</td>\n",
              "      <td>0.2</td>\n",
              "      <td>0.2</td>\n",
              "      <td>0.2</td>\n",
              "      <td>0.2</td>\n",
              "      <td>0.2</td>\n",
              "      <td>0.2</td>\n",
              "      <td>1</td>\n",
              "    </tr>\n",
              "    <tr>\n",
              "      <th>3</th>\n",
              "      <td>0.199619</td>\n",
              "      <td>0.199999</td>\n",
              "      <td>0.2</td>\n",
              "      <td>0.2</td>\n",
              "      <td>0.2</td>\n",
              "      <td>0.2</td>\n",
              "      <td>0.2</td>\n",
              "      <td>0.2</td>\n",
              "      <td>0.2</td>\n",
              "      <td>0.2</td>\n",
              "      <td>0.2</td>\n",
              "      <td>0.2</td>\n",
              "      <td>1</td>\n",
              "    </tr>\n",
              "    <tr>\n",
              "      <th>4</th>\n",
              "      <td>0.199618</td>\n",
              "      <td>0.199999</td>\n",
              "      <td>0.2</td>\n",
              "      <td>0.2</td>\n",
              "      <td>0.2</td>\n",
              "      <td>0.2</td>\n",
              "      <td>0.2</td>\n",
              "      <td>0.2</td>\n",
              "      <td>0.2</td>\n",
              "      <td>0.2</td>\n",
              "      <td>0.2</td>\n",
              "      <td>0.2</td>\n",
              "      <td>1</td>\n",
              "    </tr>\n",
              "    <tr>\n",
              "      <th>...</th>\n",
              "      <td>...</td>\n",
              "      <td>...</td>\n",
              "      <td>...</td>\n",
              "      <td>...</td>\n",
              "      <td>...</td>\n",
              "      <td>...</td>\n",
              "      <td>...</td>\n",
              "      <td>...</td>\n",
              "      <td>...</td>\n",
              "      <td>...</td>\n",
              "      <td>...</td>\n",
              "      <td>...</td>\n",
              "      <td>...</td>\n",
              "    </tr>\n",
              "    <tr>\n",
              "      <th>24810</th>\n",
              "      <td>0.199478</td>\n",
              "      <td>0.199999</td>\n",
              "      <td>0.2</td>\n",
              "      <td>0.2</td>\n",
              "      <td>0.2</td>\n",
              "      <td>0.2</td>\n",
              "      <td>0.2</td>\n",
              "      <td>0.2</td>\n",
              "      <td>0.2</td>\n",
              "      <td>0.2</td>\n",
              "      <td>0.2</td>\n",
              "      <td>0.2</td>\n",
              "      <td>0</td>\n",
              "    </tr>\n",
              "    <tr>\n",
              "      <th>24811</th>\n",
              "      <td>0.199494</td>\n",
              "      <td>0.199999</td>\n",
              "      <td>0.2</td>\n",
              "      <td>0.2</td>\n",
              "      <td>0.2</td>\n",
              "      <td>0.2</td>\n",
              "      <td>0.2</td>\n",
              "      <td>0.2</td>\n",
              "      <td>0.2</td>\n",
              "      <td>0.2</td>\n",
              "      <td>0.2</td>\n",
              "      <td>0.2</td>\n",
              "      <td>0</td>\n",
              "    </tr>\n",
              "    <tr>\n",
              "      <th>24812</th>\n",
              "      <td>0.199478</td>\n",
              "      <td>0.199999</td>\n",
              "      <td>0.2</td>\n",
              "      <td>0.2</td>\n",
              "      <td>0.2</td>\n",
              "      <td>0.2</td>\n",
              "      <td>0.2</td>\n",
              "      <td>0.2</td>\n",
              "      <td>0.2</td>\n",
              "      <td>0.2</td>\n",
              "      <td>0.2</td>\n",
              "      <td>0.2</td>\n",
              "      <td>0</td>\n",
              "    </tr>\n",
              "    <tr>\n",
              "      <th>24813</th>\n",
              "      <td>0.199471</td>\n",
              "      <td>0.199999</td>\n",
              "      <td>0.2</td>\n",
              "      <td>0.2</td>\n",
              "      <td>0.2</td>\n",
              "      <td>0.2</td>\n",
              "      <td>0.2</td>\n",
              "      <td>0.2</td>\n",
              "      <td>0.2</td>\n",
              "      <td>0.2</td>\n",
              "      <td>0.2</td>\n",
              "      <td>0.2</td>\n",
              "      <td>0</td>\n",
              "    </tr>\n",
              "    <tr>\n",
              "      <th>24814</th>\n",
              "      <td>0.199482</td>\n",
              "      <td>0.199999</td>\n",
              "      <td>0.2</td>\n",
              "      <td>0.2</td>\n",
              "      <td>0.2</td>\n",
              "      <td>0.2</td>\n",
              "      <td>0.2</td>\n",
              "      <td>0.2</td>\n",
              "      <td>0.2</td>\n",
              "      <td>0.2</td>\n",
              "      <td>0.2</td>\n",
              "      <td>0.2</td>\n",
              "      <td>0</td>\n",
              "    </tr>\n",
              "  </tbody>\n",
              "</table>\n",
              "<p>24815 rows × 13 columns</p>\n",
              "</div>"
            ],
            "text/plain": [
              "             k1        k2   k3   k4   k5   k6  ...   k8   k9  k10  k11  k12  label\n",
              "0      0.199619  0.199999  0.2  0.2  0.2  0.2  ...  0.2  0.2  0.2  0.2  0.2      1\n",
              "1      0.199619  0.199999  0.2  0.2  0.2  0.2  ...  0.2  0.2  0.2  0.2  0.2      1\n",
              "2      0.199619  0.199999  0.2  0.2  0.2  0.2  ...  0.2  0.2  0.2  0.2  0.2      1\n",
              "3      0.199619  0.199999  0.2  0.2  0.2  0.2  ...  0.2  0.2  0.2  0.2  0.2      1\n",
              "4      0.199618  0.199999  0.2  0.2  0.2  0.2  ...  0.2  0.2  0.2  0.2  0.2      1\n",
              "...         ...       ...  ...  ...  ...  ...  ...  ...  ...  ...  ...  ...    ...\n",
              "24810  0.199478  0.199999  0.2  0.2  0.2  0.2  ...  0.2  0.2  0.2  0.2  0.2      0\n",
              "24811  0.199494  0.199999  0.2  0.2  0.2  0.2  ...  0.2  0.2  0.2  0.2  0.2      0\n",
              "24812  0.199478  0.199999  0.2  0.2  0.2  0.2  ...  0.2  0.2  0.2  0.2  0.2      0\n",
              "24813  0.199471  0.199999  0.2  0.2  0.2  0.2  ...  0.2  0.2  0.2  0.2  0.2      0\n",
              "24814  0.199482  0.199999  0.2  0.2  0.2  0.2  ...  0.2  0.2  0.2  0.2  0.2      0\n",
              "\n",
              "[24815 rows x 13 columns]"
            ]
          },
          "metadata": {
            "tags": []
          },
          "execution_count": 31
        }
      ]
    },
    {
      "cell_type": "markdown",
      "metadata": {
        "id": "y-Yt2DeFb6pZ",
        "colab_type": "text"
      },
      "source": [
        "## **Segue montagem ...**"
      ]
    },
    {
      "cell_type": "code",
      "metadata": {
        "id": "mWcO9LLrcA6O",
        "colab_type": "code",
        "colab": {
          "base_uri": "https://localhost:8080/",
          "height": 34
        },
        "outputId": "f4727bab-c083-4b3a-ccad-f0c091e6c5de"
      },
      "source": [
        "from collections import Counter\n",
        "\n",
        "X = df.iloc[:, :-1]\n",
        "y = df.iloc[:, -1]\n",
        "\n",
        "print('Dataset shape %s' % Counter(y))\n"
      ],
      "execution_count": null,
      "outputs": [
        {
          "output_type": "stream",
          "text": [
            "Dataset shape Counter({0: 22442, 1: 2373})\n"
          ],
          "name": "stdout"
        }
      ]
    },
    {
      "cell_type": "markdown",
      "metadata": {
        "id": "rFgZ11CtDiDr",
        "colab_type": "text"
      },
      "source": [
        "**Holdout e Decision Tree**"
      ]
    },
    {
      "cell_type": "code",
      "metadata": {
        "id": "3wgM-9pvDkXN",
        "colab_type": "code",
        "colab": {
          "base_uri": "https://localhost:8080/",
          "height": 34
        },
        "outputId": "45446ac6-f0ad-4e63-a522-735cbcd13614"
      },
      "source": [
        "from sklearn.model_selection import train_test_split\n",
        "from sklearn import tree\n",
        "from sklearn.metrics import accuracy_score\n",
        "\n",
        "train, test, train_labels, test_labels = train_test_split(X,\n",
        "                                                          y,\n",
        "                                                          test_size=0.3,\n",
        "                                                          random_state=12,\n",
        "                                                          stratify=y)\n",
        "\n",
        "\n",
        "classifier = tree.DecisionTreeClassifier()\n",
        "\n",
        "classifier.fit(train, train_labels)\n",
        "\n",
        "score = accuracy_score(test_labels, classifier.predict(test))\n",
        "\n",
        "print(score)"
      ],
      "execution_count": null,
      "outputs": [
        {
          "output_type": "stream",
          "text": [
            "0.9888515782404298\n"
          ],
          "name": "stdout"
        }
      ]
    },
    {
      "cell_type": "markdown",
      "metadata": {
        "id": "lBRdfgj0Kbkt",
        "colab_type": "text"
      },
      "source": [
        "**Cross validation**"
      ]
    },
    {
      "cell_type": "code",
      "metadata": {
        "id": "jNTk1jsOKa67",
        "colab_type": "code",
        "colab": {
          "base_uri": "https://localhost:8080/",
          "height": 34
        },
        "outputId": "0b11eeec-171c-49eb-fdde-832a22bb6c48"
      },
      "source": [
        "from sklearn.pipeline import Pipeline\n",
        "from sklearn.ensemble import RandomForestClassifier\n",
        "from sklearn.model_selection import cross_val_score\n",
        "from sklearn.preprocessing import StandardScaler\n",
        "\n",
        "pipeline = Pipeline(steps=[\n",
        "    ('scaler', StandardScaler()),\n",
        "    ('classifier', RandomForestClassifier())])\n",
        "\n",
        "cv_scores = cross_val_score(pipeline, X, y, scoring='accuracy', cv = 10)\n",
        "\n",
        "print(cv_scores.mean())"
      ],
      "execution_count": null,
      "outputs": [
        {
          "output_type": "stream",
          "text": [
            "0.9991940195932276\n"
          ],
          "name": "stdout"
        }
      ]
    },
    {
      "cell_type": "markdown",
      "metadata": {
        "id": "xdD_v-dhG9yk",
        "colab_type": "text"
      },
      "source": [
        "Justificativa de uso das técnicas utilizadas\n",
        "\n",
        "Uso do Holdout\n",
        "\n",
        "Objetiva-se tornar o resultado menos dependente da forma de divisão dos exemplos, calcula-se a média de vários resultados de holdout através da construção de várias partições obtendo-se, assim, uma estimativa média do holdout.\n",
        "\n",
        "Uso da validação cruzada estratificada.\n",
        "\n",
        "A validação cruzada geralmente é uma maneira muito boa de medir um bom fitting, apesar de não impedir o overtitting, essa técnica mede uma estimativa de desempenho real. \n",
        "Já a validação cruzada estratificada porque as classes não estão equilibradas e isso significa, por exemplo, que conjunto\n",
        "original de exemplos possui duas classes com distribuição de 20% e 80%, então cada vez mais dobra também essa proporção de classes.\n",
        "\n",
        "\n",
        "\n"
      ]
    },
    {
      "cell_type": "markdown",
      "metadata": {
        "id": "pAy5J6G3HA-b",
        "colab_type": "text"
      },
      "source": [
        "**RandomUnderSampler**"
      ]
    },
    {
      "cell_type": "code",
      "metadata": {
        "id": "sgMR0Q9HL98D",
        "colab_type": "code",
        "colab": {
          "base_uri": "https://localhost:8080/",
          "height": 68
        },
        "outputId": "3ba90c88-c349-4e7e-9039-e1059b484c06"
      },
      "source": [
        "from imblearn.under_sampling import RandomUnderSampler\n",
        "\n",
        "train, test, train_labels, test_labels = train_test_split(X,\n",
        "                                                          y,\n",
        "                                                          test_size=0.3,\n",
        "                                                          random_state=12,\n",
        "                                                          stratify=y)\n",
        "\n",
        "rus = RandomUnderSampler(random_state=42)\n",
        "train_res, train_labels_res = rus.fit_resample(train, train_labels)\n",
        "print('dataset shape %s' % Counter(train_labels))\n",
        "print('Resampled dataset shape %s' % Counter(train_labels_res))\n",
        "\n",
        "model = tree.DecisionTreeClassifier()\n",
        "model.fit(train_res, train_labels_res)\n",
        "score = accuracy_score(test_labels, model.predict(test))\n",
        "print(score) "
      ],
      "execution_count": null,
      "outputs": [
        {
          "output_type": "stream",
          "text": [
            "dataset shape Counter({0: 15709, 1: 1661})\n",
            "Resampled dataset shape Counter({0: 1661, 1: 1661})\n",
            "0.9817327065144392\n"
          ],
          "name": "stdout"
        }
      ]
    },
    {
      "cell_type": "markdown",
      "metadata": {
        "id": "FM6nWMg3NcFJ",
        "colab_type": "text"
      },
      "source": [
        "**RandomOverSampler**\n"
      ]
    },
    {
      "cell_type": "code",
      "metadata": {
        "id": "eLee-s2GNlFx",
        "colab_type": "code",
        "colab": {
          "base_uri": "https://localhost:8080/",
          "height": 68
        },
        "outputId": "0fcad5e5-c572-4eb7-bd07-9558d28ff692"
      },
      "source": [
        "from imblearn.over_sampling import RandomOverSampler\n",
        "\n",
        "train, test, train_labels, test_labels = train_test_split(X,\n",
        "                                                          y,\n",
        "                                                          test_size=0.3,\n",
        "                                                          random_state=12,\n",
        "                                                          stratify=y)\n",
        "\n",
        "rs = RandomOverSampler()\n",
        "train_res, train_labels_res = rs.fit_resample(train, train_labels)\n",
        "print('dataset shape %s' % Counter(train_labels))\n",
        "print('Resampled dataset shape %s' % Counter(train_labels_res))\n",
        "\n",
        "model = tree.DecisionTreeClassifier()\n",
        "model.fit(train_res, train_labels_res)\n",
        "score = accuracy_score(test_labels, model.predict(test))\n",
        "print(score)"
      ],
      "execution_count": null,
      "outputs": [
        {
          "output_type": "stream",
          "text": [
            "dataset shape Counter({0: 15709, 1: 1661})\n",
            "Resampled dataset shape Counter({0: 15709, 1: 15709})\n",
            "0.9880456682337139\n"
          ],
          "name": "stdout"
        }
      ]
    }
  ]
}